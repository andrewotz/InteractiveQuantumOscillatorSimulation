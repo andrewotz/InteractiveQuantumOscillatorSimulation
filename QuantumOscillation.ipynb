import numpy as np
import matplotlib.pyplot as plt
from ipywidgets import interact, IntSlider, FloatSlider
import math  # Use Python's built-in math module for factorial

# Constants
hbar = 1.0  # Reduced Planck's constant
m = 1.0     # Mass of the particle
omega = 1.0 # Angular frequency of the harmonic oscillator

# Hermite polynomial function
def hermite(n, x):
    if n == 0:
        return 1
    elif n == 1:
        return 2 * x
    else:
        return 2 * x * hermite(n - 1, x) - 2 * (n - 1) * hermite(n - 2, x)

# Wavefunction of the quantum harmonic oscillator
def wavefunction(n, x):
    # Normalization constant
    N_n = (m * omega / (np.pi * hbar)) ** 0.25 / np.sqrt(2**n * math.factorial(n))  # Use math.factorial
    # Hermite polynomial
    H_n = hermite(n, np.sqrt(m * omega / hbar) * x)
    # Gaussian term
    gaussian = np.exp(-m * omega * x**2 / (2 * hbar))
    return N_n * H_n * gaussian

# Potential energy function
def potential(x):
    return 0.5 * m * omega**2 * x**2

# Interactive plot function
def plot_quantum_harmonic_oscillator(n=0, width=5.0):
    # Create x-axis
    x = np.linspace(-width, width, 1000)
    
    # Calculate wavefunction and probability density
    psi_n = wavefunction(n, x)
    prob_density = np.abs(psi_n)**2
    
    # Calculate energy level
    E_n = hbar * omega * (n + 0.5)
    
    # Plot the wavefunction, probability density, and potential
    plt.figure(figsize=(10, 6))
    
    # Wavefunction
    plt.plot(x, psi_n, label=rf'$\psi_{n}(x)$', color='blue')  # Use raw string (r'...')
    
    # Probability density
    plt.plot(x, prob_density, label=rf'$|\psi_{n}(x)|^2$', color='red', linestyle='--')  # Use raw string (r'...')
    
    # Potential energy
    plt.plot(x, potential(x), label='Potential $V(x)$', color='black', linestyle=':')
    
    # Energy level
    plt.axhline(E_n, color='green', linestyle='-.', label=rf'$E_{n} = {E_n:.2f}$')  # Use raw string (r'...')
    
    # Plot settings
    plt.title(f'Quantum Harmonic Oscillator (n = {n})')
    plt.xlabel('Position $x$')
    plt.ylabel('Wavefunction / Probability Density')
    plt.ylim(-1.5, 1.5)
    plt.legend()
    plt.grid(True)
    plt.show()

# Interactive sliders
interact(plot_quantum_harmonic_oscillator,
         n=IntSlider(min=0, max=10, step=1, value=0, description='Quantum Number $n$'),
         width=FloatSlider(min=1.0, max=10.0, step=0.5, value=5.0, description='Width $L$'));
#%%
